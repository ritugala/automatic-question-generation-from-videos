{
  "nbformat": 4,
  "nbformat_minor": 0,
  "metadata": {
    "colab": {
      "name": "Classifier for QG.ipynb",
      "provenance": [],
      "collapsed_sections": []
    },
    "kernelspec": {
      "name": "python3",
      "display_name": "Python 3"
    },
    "language_info": {
      "name": "python"
    }
  },
  "cells": [
    {
      "cell_type": "code",
      "metadata": {
        "colab": {
          "base_uri": "https://localhost:8080/"
        },
        "id": "lEYMn_z20kAY",
        "outputId": "a691ab14-6175-4193-ff73-d9d478b7714b"
      },
      "source": [
        "from google.colab import drive\n",
        "drive.mount('/content/gdrive')"
      ],
      "execution_count": 1,
      "outputs": [
        {
          "output_type": "stream",
          "text": [
            "Mounted at /content/gdrive\n"
          ],
          "name": "stdout"
        }
      ]
    },
    {
      "cell_type": "code",
      "metadata": {
        "id": "m4PmoFgOcqL_"
      },
      "source": [
        "%matplotlib inline\n",
        "\n",
        "import numpy as np # linear algebra\n",
        "import pandas as pd # data processing, CSV file I/O (e.g. pd.read_csv)\n",
        "import os\n",
        "import matplotlib.pyplot as plt\n",
        "import cv2\n",
        "from PIL import Image\n",
        "from keras.models import Sequential\n",
        "from keras.layers import Dense, Conv2D, Flatten"
      ],
      "execution_count": 2,
      "outputs": []
    },
    {
      "cell_type": "code",
      "metadata": {
        "id": "I0DErAaSes0s"
      },
      "source": [
        "DATA_INPUT_PATH = '/content/gdrive/MyDrive/Question Generation Paper Implementation/QG_Classifier/Dataset/'"
      ],
      "execution_count": 3,
      "outputs": []
    },
    {
      "cell_type": "code",
      "metadata": {
        "id": "6pVPplEWesyB"
      },
      "source": [
        "# creating image list and corresponding labels for input\n",
        "def create_image_and_labels():\n",
        "    images = []\n",
        "    images_shape = []\n",
        "    labels = []\n",
        "    df = pd.read_csv('/content/gdrive/MyDrive/Question Generation Paper Implementation/QG_Classifier/input.csv')\n",
        "    for index, item in df.iterrows():\n",
        "        filename = f\"{item['id']}.jpg\"\n",
        "        image = Image.open(os.path.join(DATA_INPUT_PATH, filename)).convert(\"L\")\n",
        "        images.append(np.asarray(image))\n",
        "        labels.append(item['class'])\n",
        "        images_shape.append(np.array(np.asarray(image).shape))\n",
        "    images_shape = np.array(images_shape)\n",
        "\n",
        "\n",
        "    images = [cv2.resize(img,(64,64)) for img in images]\n",
        "    return images, labels\n",
        "\n",
        "images, labels = create_image_and_labels()"
      ],
      "execution_count": 4,
      "outputs": []
    },
    {
      "cell_type": "code",
      "metadata": {
        "id": "nRnKDcyEpoIc"
      },
      "source": [
        "for i in range(0, 46):\n",
        "  if labels[i]==2:\n",
        "    labels[i] = 0"
      ],
      "execution_count": 12,
      "outputs": []
    },
    {
      "cell_type": "code",
      "metadata": {
        "id": "SDxE-0H_DcOS"
      },
      "source": [
        "# shuffling input data\n",
        "def shuffle_data(images, labels):\n",
        "    import sklearn\n",
        "    array1_shuffled, array2_shuffled = sklearn.utils.shuffle(images, labels)\n",
        "    return array1_shuffled, array2_shuffled\n",
        "\n",
        "images_shuffled, labels_shuffled = shuffle_data(images, labels)"
      ],
      "execution_count": 15,
      "outputs": []
    },
    {
      "cell_type": "code",
      "metadata": {
        "colab": {
          "base_uri": "https://localhost:8080/"
        },
        "id": "uwwvYZCyDcKQ",
        "outputId": "be493011-dd0e-4830-92e3-7e5592b71365"
      },
      "source": [
        "def create_train_test_data(data, labels, test_data=0.2):\n",
        "    idx = int((1-test_data) * len(data))\n",
        "    X_train, y_train = np.array(data[:idx]), np.array(labels[:idx])\n",
        "    X_test, y_test = np.array(data[idx:]), np.array(labels[idx:])\n",
        "\n",
        "    # reshaping images to 64*64*1 for model input\n",
        "    X_train = X_train.reshape(len(X_train),64,64,1)\n",
        "    X_test = X_test.reshape(len(X_test),64,64,1)\n",
        "\n",
        "    print(f'Shape of input image: {X_train[0].shape}')\n",
        "    return X_train, y_train, X_test, y_test\n",
        "\n",
        "X_train, y_train, X_test, y_test = create_train_test_data(images_shuffled, labels_shuffled)"
      ],
      "execution_count": 16,
      "outputs": [
        {
          "output_type": "stream",
          "text": [
            "Shape of input image: (64, 64, 1)\n"
          ],
          "name": "stdout"
        }
      ]
    },
    {
      "cell_type": "code",
      "metadata": {
        "id": "JMW3ibsADcIU"
      },
      "source": [
        "def create_model():\n",
        "    #create model\n",
        "    model = Sequential()\n",
        "    \n",
        "    #add model layers\n",
        "    model.add(Conv2D(64, kernel_size=3, activation='relu', input_shape=(64,64,1)))\n",
        "    model.add(Conv2D(32, kernel_size=3, activation='relu'))\n",
        "    model.add(Flatten())\n",
        "    model.add(Dense(1, activation='sigmoid'))\n",
        "    print('-------------MODEL INFORMATION-----------------')\n",
        "    model.summary()\n",
        "    return model\n",
        "\n",
        "model = create_model()"
      ],
      "execution_count": null,
      "outputs": []
    },
    {
      "cell_type": "code",
      "metadata": {
        "id": "CLNpnAMyDcGW"
      },
      "source": [
        "def compile_model(model):\n",
        "    model.compile(optimizer='adam', loss='binary_crossentropy', metrics=['accuracy'])\n",
        "\n",
        "compile_model(model)"
      ],
      "execution_count": null,
      "outputs": []
    },
    {
      "cell_type": "code",
      "metadata": {
        "id": "6Ga8LoM_DcEY"
      },
      "source": [
        "def train_model(model, X_train, y_train, X_test, y_test, epochs=10):\n",
        "    history = model.fit(X_train, y_train, validation_data=(X_test, y_test), epochs=epochs)\n",
        "    print(f\"Trained for {epochs} epochs!\")\n",
        "    return history\n",
        "\n",
        "history = train_model(model, X_train, y_train, X_test, y_test, epochs=20)"
      ],
      "execution_count": null,
      "outputs": []
    },
    {
      "cell_type": "code",
      "metadata": {
        "id": "Wf4gEiKILJ7M"
      },
      "source": [
        "print(history)"
      ],
      "execution_count": null,
      "outputs": []
    },
    {
      "cell_type": "code",
      "metadata": {
        "id": "c-RjTRMWDcCc"
      },
      "source": [
        "def predict(model, list_of_images):\n",
        "    predictions = model.predict(list_of_images)\n",
        "    print(\"Predicted!\")\n",
        "    return predictions\n",
        "\n",
        "# pred = predict(model, X_test[:4])\n",
        "# print(pred)"
      ],
      "execution_count": 22,
      "outputs": []
    },
    {
      "cell_type": "code",
      "metadata": {
        "colab": {
          "base_uri": "https://localhost:8080/"
        },
        "id": "tDiyPAncJSAY",
        "outputId": "cb5912af-db7c-4c89-9fde-c06edd0cdcaf"
      },
      "source": [
        "print(y_test[:4])"
      ],
      "execution_count": null,
      "outputs": [
        {
          "output_type": "stream",
          "text": [
            "[0 1 1 1]\n"
          ],
          "name": "stdout"
        }
      ]
    },
    {
      "cell_type": "code",
      "metadata": {
        "id": "nDraENGAJWjL"
      },
      "source": [
        "def prediction_scaling(predictions):\n",
        "  for i, predicted in enumerate(predictions):\n",
        "    if predicted[0] >= 0.5:\n",
        "      predictions[i] = 1\n",
        "      #assign i to class 1\n",
        "    else:\n",
        "      predictions[i] = 0\n",
        "      #assign i to class 0\n",
        "  predictions = np.asarray(predictions).astype('int32')\n",
        "  return predictions\n",
        "\n",
        "preds = prediction_scaling(pred)\n",
        "print(preds)"
      ],
      "execution_count": null,
      "outputs": []
    },
    {
      "cell_type": "code",
      "metadata": {
        "id": "b2vCep8HJw_b"
      },
      "source": [
        "# summarize history for accuracy\n",
        "plt.plot(history.history['accuracy'])\n",
        "plt.plot(history.history['val_accuracy'])\n",
        "plt.title('model accuracy')\n",
        "plt.ylabel('accuracy')\n",
        "plt.xlabel('epoch')\n",
        "plt.legend(['train', 'test'], loc='upper left')\n",
        "plt.show()\n",
        "# summarize history for loss\n",
        "plt.plot(history.history['loss'])\n",
        "plt.plot(history.history['val_loss'])\n",
        "plt.title('model loss')\n",
        "plt.ylabel('loss')\n",
        "plt.xlabel('epoch')\n",
        "plt.legend(['train', 'test'], loc='upper left')\n",
        "plt.show()"
      ],
      "execution_count": null,
      "outputs": []
    },
    {
      "cell_type": "code",
      "metadata": {
        "id": "ry1_pCLHLUhu"
      },
      "source": [
        "ip = '/content/gdrive/MyDrive/Question Generation Paper Implementation/test_img.jpg'\n",
        "img_test = Image.open(ip).convert(\"L\")\n",
        "print(img_test)\n",
        "test = []\n",
        "test.append(np.asarray(img_test))\n",
        "test = [cv2.resize(img,(64,64)) for img in test] #trying out with 64x64\n",
        "test = np.array(test)\n",
        "print(test.shape)\n",
        "test = test.reshape(len(test),64,64,1)\n",
        "pred_test = predict(model, test)\n",
        "print(pred_test)"
      ],
      "execution_count": null,
      "outputs": []
    },
    {
      "cell_type": "code",
      "metadata": {
        "id": "Y_EfYqq5MHaf"
      },
      "source": [
        "print(X_train[:2].shape)"
      ],
      "execution_count": null,
      "outputs": []
    },
    {
      "cell_type": "code",
      "metadata": {
        "id": "7ifSoE_fN2ip"
      },
      "source": [
        "def predict_output(images_dir_path):\n",
        "  \"\"\"returns list of preprocessed images ready to be fed to the model\"\"\"\n",
        "  test = []\n",
        "  for image_path in os.listdir(images_dir_path):\n",
        "    img = Image.open(image_path).convert(\"L\")\n",
        "    test.append(np.asarray(img))\n",
        "  test = [cv2.resize(img, (64,64)) for img in test]\n",
        "  test = np.array(test)\n",
        "  test = test.reshape(len(test),64,64,1)\n",
        "  return test"
      ],
      "execution_count": null,
      "outputs": []
    },
    {
      "cell_type": "code",
      "metadata": {
        "id": "hvsXT0OKPSbq"
      },
      "source": [
        "def create_lenet_model():\n",
        "  import keras\n",
        "  from keras import layers\n",
        "  model = keras.Sequential()\n",
        "\n",
        "  model.add(layers.Conv2D(filters=6, kernel_size=(3, 3), activation='relu', input_shape=(64, 64, 1)))\n",
        "  model.add(layers.AveragePooling2D())\n",
        "\n",
        "  model.add(layers.Conv2D(filters=16, kernel_size=(3, 3), activation='relu'))\n",
        "  model.add(layers.AveragePooling2D())\n",
        "\n",
        "  model.add(layers.Flatten())\n",
        "  \n",
        "  model.add(layers.Dense(units=120, activation='relu'))\n",
        "  model.add(layers.Dense(units=84, activation='relu'))\n",
        "  model.add(layers.Dense(units=1, activation = 'sigmoid'))\n",
        "\n",
        "  return model\n",
        "\n",
        "lenet = create_lenet_model()"
      ],
      "execution_count": 17,
      "outputs": []
    },
    {
      "cell_type": "code",
      "metadata": {
        "colab": {
          "base_uri": "https://localhost:8080/"
        },
        "id": "0v9hz4a3QdUc",
        "outputId": "39f2b46a-710b-46fb-8ddb-bbc6bb02ec85"
      },
      "source": [
        "lenet.summary()"
      ],
      "execution_count": 18,
      "outputs": [
        {
          "output_type": "stream",
          "text": [
            "Model: \"sequential_1\"\n",
            "_________________________________________________________________\n",
            "Layer (type)                 Output Shape              Param #   \n",
            "=================================================================\n",
            "conv2d_2 (Conv2D)            (None, 62, 62, 6)         60        \n",
            "_________________________________________________________________\n",
            "average_pooling2d_2 (Average (None, 31, 31, 6)         0         \n",
            "_________________________________________________________________\n",
            "conv2d_3 (Conv2D)            (None, 29, 29, 16)        880       \n",
            "_________________________________________________________________\n",
            "average_pooling2d_3 (Average (None, 14, 14, 16)        0         \n",
            "_________________________________________________________________\n",
            "flatten_1 (Flatten)          (None, 3136)              0         \n",
            "_________________________________________________________________\n",
            "dense_3 (Dense)              (None, 120)               376440    \n",
            "_________________________________________________________________\n",
            "dense_4 (Dense)              (None, 84)                10164     \n",
            "_________________________________________________________________\n",
            "dense_5 (Dense)              (None, 1)                 85        \n",
            "=================================================================\n",
            "Total params: 387,629\n",
            "Trainable params: 387,629\n",
            "Non-trainable params: 0\n",
            "_________________________________________________________________\n"
          ],
          "name": "stdout"
        }
      ]
    },
    {
      "cell_type": "code",
      "metadata": {
        "id": "3JFCz4uDQqct"
      },
      "source": [
        "def compile_model(model):\n",
        "    model.compile(optimizer='adam', loss='binary_crossentropy', metrics=['accuracy'])\n",
        "    \n",
        "compile_model(lenet)"
      ],
      "execution_count": 19,
      "outputs": []
    },
    {
      "cell_type": "code",
      "metadata": {
        "colab": {
          "base_uri": "https://localhost:8080/"
        },
        "id": "37TDGdgOQueq",
        "outputId": "36859410-1749-4c5e-99ac-bcb2dea569c5"
      },
      "source": [
        "def train_model(model, X_train, y_train, X_test, y_test, epochs=3):\n",
        "    history = model.fit(X_train, y_train, validation_data=(X_test, y_test), epochs=epochs)\n",
        "    print(f\"Trained for {epochs} epochs!\")\n",
        "    return history\n",
        "\n",
        "history = train_model(lenet, X_train, y_train, X_test, y_test, epochs=20)"
      ],
      "execution_count": 20,
      "outputs": [
        {
          "output_type": "stream",
          "text": [
            "Epoch 1/20\n",
            "15/15 [==============================] - 2s 79ms/step - loss: 6.7223 - accuracy: 0.8583 - val_loss: 1.6750 - val_accuracy: 0.9076\n",
            "Epoch 2/20\n",
            "15/15 [==============================] - 1s 59ms/step - loss: 0.6790 - accuracy: 0.8852 - val_loss: 0.3237 - val_accuracy: 0.9076\n",
            "Epoch 3/20\n",
            "15/15 [==============================] - 1s 57ms/step - loss: 0.2480 - accuracy: 0.9020 - val_loss: 0.1978 - val_accuracy: 0.9160\n",
            "Epoch 4/20\n",
            "15/15 [==============================] - 1s 57ms/step - loss: 0.0727 - accuracy: 0.9734 - val_loss: 0.0629 - val_accuracy: 0.9664\n",
            "Epoch 5/20\n",
            "15/15 [==============================] - 1s 57ms/step - loss: 0.0222 - accuracy: 0.9908 - val_loss: 0.0462 - val_accuracy: 0.9832\n",
            "Epoch 6/20\n",
            "15/15 [==============================] - 1s 57ms/step - loss: 0.0080 - accuracy: 1.0000 - val_loss: 0.0467 - val_accuracy: 0.9832\n",
            "Epoch 7/20\n",
            "15/15 [==============================] - 1s 57ms/step - loss: 0.0050 - accuracy: 1.0000 - val_loss: 0.0536 - val_accuracy: 0.9832\n",
            "Epoch 8/20\n",
            "15/15 [==============================] - 1s 55ms/step - loss: 0.0035 - accuracy: 1.0000 - val_loss: 0.0538 - val_accuracy: 0.9832\n",
            "Epoch 9/20\n",
            "15/15 [==============================] - 1s 57ms/step - loss: 0.0020 - accuracy: 1.0000 - val_loss: 0.0593 - val_accuracy: 0.9832\n",
            "Epoch 10/20\n",
            "15/15 [==============================] - 1s 57ms/step - loss: 0.0015 - accuracy: 1.0000 - val_loss: 0.0597 - val_accuracy: 0.9832\n",
            "Epoch 11/20\n",
            "15/15 [==============================] - 1s 58ms/step - loss: 8.3985e-04 - accuracy: 1.0000 - val_loss: 0.0607 - val_accuracy: 0.9832\n",
            "Epoch 12/20\n",
            "15/15 [==============================] - 1s 57ms/step - loss: 9.0958e-04 - accuracy: 1.0000 - val_loss: 0.0623 - val_accuracy: 0.9832\n",
            "Epoch 13/20\n",
            "15/15 [==============================] - 1s 57ms/step - loss: 5.7454e-04 - accuracy: 1.0000 - val_loss: 0.0632 - val_accuracy: 0.9748\n",
            "Epoch 14/20\n",
            "15/15 [==============================] - 1s 58ms/step - loss: 4.2943e-04 - accuracy: 1.0000 - val_loss: 0.0634 - val_accuracy: 0.9832\n",
            "Epoch 15/20\n",
            "15/15 [==============================] - 1s 57ms/step - loss: 2.8344e-04 - accuracy: 1.0000 - val_loss: 0.0638 - val_accuracy: 0.9748\n",
            "Epoch 16/20\n",
            "15/15 [==============================] - 1s 57ms/step - loss: 2.4362e-04 - accuracy: 1.0000 - val_loss: 0.0645 - val_accuracy: 0.9748\n",
            "Epoch 17/20\n",
            "15/15 [==============================] - 1s 58ms/step - loss: 2.3760e-04 - accuracy: 1.0000 - val_loss: 0.0648 - val_accuracy: 0.9748\n",
            "Epoch 18/20\n",
            "15/15 [==============================] - 1s 57ms/step - loss: 2.4689e-04 - accuracy: 1.0000 - val_loss: 0.0650 - val_accuracy: 0.9748\n",
            "Epoch 19/20\n",
            "15/15 [==============================] - 1s 58ms/step - loss: 1.4261e-04 - accuracy: 1.0000 - val_loss: 0.0654 - val_accuracy: 0.9748\n",
            "Epoch 20/20\n",
            "15/15 [==============================] - 1s 58ms/step - loss: 1.2195e-04 - accuracy: 1.0000 - val_loss: 0.0658 - val_accuracy: 0.9748\n",
            "Trained for 20 epochs!\n"
          ],
          "name": "stdout"
        }
      ]
    },
    {
      "cell_type": "code",
      "metadata": {
        "id": "3j3FBAAVQzz6"
      },
      "source": [
        "# summarize history for accuracy\n",
        "plt.plot(history.history['accuracy'])\n",
        "plt.plot(history.history['val_accuracy'])\n",
        "plt.title('model accuracy')\n",
        "plt.ylabel('accuracy')\n",
        "plt.xlabel('epoch')\n",
        "plt.legend(['train', 'test'], loc='upper left')\n",
        "plt.show()\n",
        "# summarize history for loss\n",
        "plt.plot(history.history['loss'])\n",
        "plt.plot(history.history['val_loss'])\n",
        "plt.title('model loss')\n",
        "plt.ylabel('loss')\n",
        "plt.xlabel('epoch')\n",
        "plt.legend(['train', 'test'], loc='upper left')\n",
        "plt.show()"
      ],
      "execution_count": null,
      "outputs": []
    },
    {
      "cell_type": "code",
      "metadata": {
        "id": "9P4mDPEhj9F0"
      },
      "source": [
        "# summarize history for accuracy\n",
        "plt.plot(history.history['accuracy'])\n",
        "plt.plot(history.history['val_accuracy'])\n",
        "plt.title('model accuracy')\n",
        "plt.ylabel('accuracy')\n",
        "plt.xlabel('epoch')\n",
        "plt.legend(['train', 'test'], loc='upper left')\n",
        "plt.show()\n",
        "# summarize history for loss\n",
        "plt.plot(history.history['loss'])\n",
        "plt.plot(history.history['val_loss'])\n",
        "plt.title('model loss')\n",
        "plt.ylabel('loss')\n",
        "plt.xlabel('epoch')\n",
        "plt.legend(['train', 'test'], loc='upper left')\n",
        "plt.show()"
      ],
      "execution_count": null,
      "outputs": []
    },
    {
      "cell_type": "code",
      "metadata": {
        "id": "bw4aFNvrRTEv"
      },
      "source": [
        "plt.plot(history.history['val_loss'])\n",
        "plt.ylabel('validation loss')\n",
        "plt.xlabel('epochs')\n",
        "plt.show()"
      ],
      "execution_count": null,
      "outputs": []
    },
    {
      "cell_type": "code",
      "metadata": {
        "id": "SmANvn5jRjlc"
      },
      "source": [
        "test = predict_output('/content/gdrive/MyDrive/Question Generation Paper Implementation/test')\n",
        "preds = predict(lenet, test)\n",
        "\n",
        "print(preds)"
      ],
      "execution_count": null,
      "outputs": []
    },
    {
      "cell_type": "code",
      "metadata": {
        "colab": {
          "base_uri": "https://localhost:8080/"
        },
        "id": "iNx7N8bhSj3U",
        "outputId": "09e11e5b-2428-499f-a806-c5c53b8332f2"
      },
      "source": [
        "ip = '/content/gdrive/MyDrive/Question Generation Paper Implementation/test/test10.jpg'\n",
        "# ip = DATA_INPUT_PATH + '44.jpg'\n",
        "img_test = Image.open(ip).convert(\"L\")\n",
        "print(img_test)\n",
        "test = []\n",
        "test.append(np.asarray(img_test))\n",
        "test = [cv2.resize(img,(64,64)) for img in test]\n",
        "test = np.array(test)\n",
        "print(test.shape)\n",
        "test = test.reshape(len(test),64,64,1)\n",
        "pred_test = predict(lenet, test)\n",
        "print(pred_test)"
      ],
      "execution_count": 35,
      "outputs": [
        {
          "output_type": "stream",
          "text": [
            "<PIL.Image.Image image mode=L size=714x364 at 0x7F5D04469CD0>\n",
            "(1, 64, 64)\n",
            "Predicted!\n",
            "[[1.]]\n"
          ],
          "name": "stdout"
        }
      ]
    },
    {
      "cell_type": "code",
      "metadata": {
        "colab": {
          "base_uri": "https://localhost:8080/"
        },
        "id": "bZRT2Kkjrctr",
        "outputId": "9b33ad8e-8c20-4626-be88-04b35c0bdf8e"
      },
      "source": [
        "1 - 0.00134894"
      ],
      "execution_count": 34,
      "outputs": [
        {
          "output_type": "execute_result",
          "data": {
            "text/plain": [
              "0.99865106"
            ]
          },
          "metadata": {
            "tags": []
          },
          "execution_count": 34
        }
      ]
    },
    {
      "cell_type": "code",
      "metadata": {
        "id": "GjaYMwyESynV"
      },
      "source": [
        "plt.figure()\n",
        "img = cv2.imread('/content/gdrive/MyDrive/Question Generation Paper Implementation/test/test3.jpg')\n",
        "plt.imshow(img)"
      ],
      "execution_count": null,
      "outputs": []
    },
    {
      "cell_type": "code",
      "metadata": {
        "colab": {
          "base_uri": "https://localhost:8080/"
        },
        "id": "LhzQcFdqT1kJ",
        "outputId": "f2155c3b-8cd6-4dc9-b55a-5d4a0572cd4e"
      },
      "source": [
        "pred_test = predict(lenet, X_test)"
      ],
      "execution_count": null,
      "outputs": [
        {
          "output_type": "stream",
          "text": [
            "Predicted!\n"
          ],
          "name": "stdout"
        }
      ]
    },
    {
      "cell_type": "code",
      "metadata": {
        "id": "y99HbNGwUM0Q"
      },
      "source": [
        "count = 0\n",
        "for i in range(len(pred_test)):\n",
        "  if pred_test[i] <=0.5:\n",
        "    pred_test[i] = 0\n",
        "  else: \n",
        "    pred_test[i] = 1\n",
        "\n",
        "for i in range(len(pred_test)):\n",
        "  if pred_test[i] == y_test[i]:\n",
        "    count +=1\n",
        "\n",
        "print(\"Accuracy: \", count/ len(pred_test))"
      ],
      "execution_count": null,
      "outputs": []
    },
    {
      "cell_type": "code",
      "metadata": {
        "id": "fdaHrxLVUhXd"
      },
      "source": [
        "print(len(pred_test))"
      ],
      "execution_count": null,
      "outputs": []
    },
    {
      "cell_type": "code",
      "metadata": {
        "id": "gM2bUw2jVLln"
      },
      "source": [
        "def train_model(model, X_train, y_train, X_test, y_test, epochs=3):\n",
        "    history = model.fit(X_train, y_train, validation_data=(X_test, y_test), epochs=epochs)\n",
        "    print(f\"Trained for {epochs} epochs!\")\n",
        "    return history\n",
        "\n",
        "history = train_model(lenet, X_train, y_train, X_test, y_test, epochs=100)"
      ],
      "execution_count": null,
      "outputs": []
    }
  ]
}